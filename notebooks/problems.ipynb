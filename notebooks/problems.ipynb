{
 "cells": [
  {
   "cell_type": "markdown",
   "id": "83e600f2",
   "metadata": {},
   "source": [
    "# Section 1: Introduction"
   ]
  },
  {
   "cell_type": "markdown",
   "id": "418735fc",
   "metadata": {},
   "source": [
    "## Purpose: \n",
    "\n",
    "This notebook implements a function called get_data() using the yfinance package to download hourly stock data for the five FAANG companies over the past five days. The data is saved in a timestamped CSV file within a data/ folder.\n",
    "\n",
    "**FAANG Stocks:**\n",
    "\n",
    "- Facebook → META # Facebook has rebranded to [Meta Platforms, Inc.](https://about.fb.com/news/2021/10/facebook-company-is-now-meta/)\n",
    "\n",
    "- Apple → AAPL # [Apple Inc.](https://www.apple.com)\n",
    "\n",
    "- Amazon → AMZN # [Amazon.com, Inc.](https://www.amazon.com)\n",
    "\n",
    "- Netflix → NFLX # [Netflix, Inc.](https://www.netflix.com)\n",
    "\n",
    "- Google → GOOG # [Alphabet Inc.](https://www.google.com)"
   ]
  },
  {
   "cell_type": "markdown",
   "id": "14a879f2",
   "metadata": {},
   "source": [
    "# Section 2: Import Required Libraries"
   ]
  },
  {
   "cell_type": "code",
   "execution_count": null,
   "id": "115f83ea",
   "metadata": {},
   "outputs": [],
   "source": [
    "# Yahoo Finance API\n",
    "import yfinance as yf\n",
    "# Pandas is used for data manipulation\n",
    "import pandas as pd\n",
    "# OS Module is used for file path operations\n",
    "import os\n",
    "# Datetime is used for handling date and time\n",
    "from datetime import datetime, timedelta"
   ]
  },
  {
   "cell_type": "markdown",
   "id": "97b1c1bc",
   "metadata": {},
   "source": [
    "### Explanation of Libraries Used:\n",
    "\n",
    "- **`yfinance`**: Used to fetch stock data from Yahoo Finance. [Source](https://pypi.org/project/yfinance/).  \n",
    "\n",
    "- **`pandas`**: For handling tabular data and saving to CSV. [Source](https://pandas.pydata.org/)\n",
    "\n",
    "- **`os`**: Used to check and create directories.\n",
    "\n",
    "- **`datetime`**: Used to generate timestamped filenames."
   ]
  },
  {
   "cell_type": "markdown",
   "id": "291a0ac5",
   "metadata": {},
   "source": [
    "### yfinance GitHub Repository\n",
    "\n",
    "The [`yfinance`](https://github.com/ranaroussi/yfinance) project is an open-source Python library that provides a convenient way to download financial and market data from Yahoo Finance.\n",
    "\n",
    "- Developed by **Ran Aroussi**, it offers a Pythonic interface to access stock prices, historical data, and financial metrics.\n",
    "- It supports features like:\n",
    "  - `Ticker`: Retrieve data for a single stock\n",
    "  - `download`: Bulk download for multiple tickers\n",
    "  - `Sector`, `Industry`, and `Screener`: For market analysis\n",
    "  - `WebSocket`: For live streaming data\n",
    "\n",
    "> ⚠️ Note: yfinance is not affiliated with or endorsed by Yahoo Inc. It uses publicly available APIs and is intended for **research and educational purposes only** which is the purpose for this notebook.\n",
    "\n",
    "For installation:\n",
    "```bash\n",
    "pip install yfinance\n",
    "\n",
    "[Source](https://pypi.org/project/yfinance/)"
   ]
  }
 ],
 "metadata": {
  "kernelspec": {
   "display_name": "Python 3",
   "language": "python",
   "name": "python3"
  },
  "language_info": {
   "codemirror_mode": {
    "name": "ipython",
    "version": 3
   },
   "file_extension": ".py",
   "mimetype": "text/x-python",
   "name": "python",
   "nbconvert_exporter": "python",
   "pygments_lexer": "ipython3",
   "version": "3.12.1"
  }
 },
 "nbformat": 4,
 "nbformat_minor": 5
}
