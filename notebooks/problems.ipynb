{
 "cells": [
  {
   "cell_type": "markdown",
   "id": "83e600f2",
   "metadata": {},
   "source": [
    "# FAANG Stock Data Lab – Infrastructure & Setup\n",
    "\n",
    "This Jupyter notebook explores hourly stock data for the FAANG companies—**Facebook (Meta), Apple, Amazon, Netflix, and Google (Alphabet)**—using Python. It guides you through:\n",
    "\n",
    "- 📥 Retrieving data with `yfinance`  \n",
    "- 🧹 Cleaning and preparing datasets  \n",
    "- 📊 Visualizing trends  \n",
    "- 📈 Performing basic statistical analysis  \n",
    "\n",
    "All code follows **PEP 8** style guidelines for clarity and consistency. Each code cell focuses on a single step and includes comments explaining key lines.\n",
    "\n",
    "Assignment specifics: this notebook maps directly to the module Problems. Problem 1 handles data download, and Problem 2 plots the latest dataset. Stubs/notes are provided for Problems 3–4 in the README.\n",
    "\n",
    "Target audience: an informed computing professional (e.g., a prospective employer). We assume strong computing background but not prior familiarity with these particular Python packages; comments and short explanations are provided where helpful."
   ]
  },
  {
   "cell_type": "markdown",
   "id": "3788d6a2",
   "metadata": {},
   "source": [
    "### Key concepts: Setup\n",
    "\n",
    "- Use PEP 8 for readable, consistent code ([PEP 8](https://peps.python.org/pep-0008/)).\n",
    "- Set plotting defaults for reproducible visuals ([Jupyter best practices](https://jupyter.org/practices)).\n",
    "- Keep imports minimal to reduce environment friction ([Real Python: imports](https://realpython.com/python-imports/))."
   ]
  },
  {
   "cell_type": "markdown",
   "id": "8a0e8635",
   "metadata": {},
   "source": [
    "## 📚 Background: Accessing Market Data with `yfinance`\n",
    "\n",
    "[`yfinance`](https://pypi.org/project/yfinance/) is a Python library that provides a simple interface to download historical and real-time financial data from Yahoo Finance. It’s widely used in research, education, and personal finance projects due to its ease of use.\n",
    "\n",
    "> ⚠️ **Note:** `yfinance` is not affiliated with or endorsed by Yahoo Inc. Use it only for educational or research purposes."
   ]
  },
  {
   "cell_type": "markdown",
   "id": "4c2c5343",
   "metadata": {},
   "source": [
    "## ⚙️ Install Dependencies (if needed)\n",
    "\n",
    "If `yfinance` is not already installed in your notebook environment, run the following cell:\n",
    "\n",
    "```python\n",
    "# Install yfinance if not already available\n",
    "%pip install yfinance\n",
    "```"
   ]
  },
  {
   "cell_type": "markdown",
   "id": "2b105652",
   "metadata": {},
   "source": [
    "## 📊 Problem 1 — FAANG Stock Data with `yfinance`\n",
    "\n",
    "In this task, you'll download **hourly stock data** for the FAANG companies:\n",
    "\n",
    "- META (Facebook), AAPL (Apple), AMZN (Amazon), NFLX (Netflix), GOOG (Google)\n",
    "\n",
    "You'll retrieve data for the **past 5 days** using the `yfinance` library and save timestamped CSVs to the `data/` folder.\n",
    "\n",
    "> 🧼 Keep code cells small, well-commented, and reproducible."
   ]
  },
  {
   "cell_type": "markdown",
   "id": "14a879f2",
   "metadata": {},
   "source": [
    "# ⚙️ Setup – Imports and Plotting Defaults\n",
    "\n",
    "This step performs minimal setup:\n",
    "- Imports required libraries\n",
    "- Sets plotting defaults\n",
    "- Defines a toggle (`SHOW_PREVIEW`) to control DataFrame previews\n",
    "\n",
    "Tip: For reproducible environments, prefer a virtual environment and install from `requirements.txt` rather than installing within the notebook."
   ]
  },
  {
   "cell_type": "code",
   "execution_count": null,
   "id": "115f83ea",
   "metadata": {},
   "outputs": [],
   "source": [
    "# Minimal Setup: imports, plotting defaults, and preview flag\n",
    "# - Keep imports small for faster environment setup and easier reproducibility.\n",
    "# - SHOW_PREVIEW toggles DataFrame previews (useful to suppress output in CI).\n",
    "\n",
    "import os\n",
    "from datetime import datetime, timezone\n",
    "\n",
    "# Toggle previews of large tables (set False for CI/grading)\n",
    "SHOW_PREVIEW: bool = True\n",
    "\n",
    "# Core libraries used in the exercises\n",
    "import pandas as pd  # Data analysis library for tabular data\n",
    "import numpy as np   # Numerical computing (arrays, math helpers)\n",
    "import yfinance as yf  # Financial data from Yahoo Finance\n",
    "import matplotlib.pyplot as plt  # Plotting library\n",
    "import seaborn as sns  # Plot styling built on top of matplotlib\n",
    "from collections import Counter  # Simple frequency counting for diagnostics\n",
    "\n",
    "# Plotting defaults for consistency across environments\n",
    "plt.rcParams['figure.figsize'] = (10, 5)\n",
    "sns.set_style('whitegrid')\n",
    "\n",
    "print(\"✅ Minimal setup complete. If you need to install packages, see README_SETUP.md.\")"
   ]
  },
  {
   "cell_type": "markdown",
   "id": "19639802",
   "metadata": {},
   "source": [
    "### Key concepts: Setup (continued)\n",
    "\n",
    "- Use `%pip install` in notebooks only if needed; prefer project venv + requirements.txt ([Jupyter best practices](https://jupyter.org/practices)).\n",
    "- Keep notebook installs minimal to maintain reproducibility ([The Turing Way](https://the-turing-way.netlify.app/reproducible-research/overview/overview.html))."
   ]
  },
  {
   "cell_type": "markdown",
   "id": "6898a944",
   "metadata": {},
   "source": [
    "# Package Verification and Install Guidance"
   ]
  },
  {
   "cell_type": "markdown",
   "id": "3f1e6c41",
   "metadata": {},
   "source": [
    "## 🔍 Quick Verification – Package Availability\n",
    "\n",
    "This cell checks that essential packages are available and performs a lightweight `yfinance` request to verify network/API access.\n",
    "\n",
    "> ⚠️ If any package is missing, follow the install instructions in `README_SETUP.md` or use `requirements.txt` from the repo root.\n",
    "```python"
   ]
  },
  {
   "cell_type": "markdown",
   "id": "449ae9a5",
   "metadata": {},
   "source": [
    "### Quick verification of Installed Packages"
   ]
  },
  {
   "cell_type": "code",
   "execution_count": null,
   "id": "93c4a0d6",
   "metadata": {},
   "outputs": [],
   "source": [
    "# Quick verification of essential packages and yfinance functionality\n",
    "# - Confirms pandas and yfinance are importable\n",
    "# - Executes a small history() call to validate network access\n",
    "\n",
    "ok = True\n",
    "\n",
    "# Check pandas availability\n",
    "if 'pd' not in globals() or pd is None:\n",
    "    print(\"❌ pandas not available. Install with: python -m pip install pandas\")\n",
    "    ok = False\n",
    "\n",
    "# Check yfinance availability\n",
    "if 'yf' not in globals() or yf is None:\n",
    "    print(\"❌ yfinance not available. Install with: python -m pip install yfinance\")\n",
    "    ok = False\n",
    "\n",
    "# If both are present, perform a lightweight yfinance request\n",
    "if ok:\n",
    "    try:\n",
    "        t = yf.Ticker(\"AAPL\")  # Create a Ticker object for Apple\n",
    "        df = t.history(period=\"1d\", interval=\"1h\")  # Fetch 1 day of hourly data\n",
    "        print(\"✅ yfinance request succeeded — rows, cols =\", df.shape)\n",
    "\n",
    "        if SHOW_PREVIEW:\n",
    "            display(df.head())  # Show first few rows for a quick sanity check\n",
    "    except Exception as e:\n",
    "        print(\"❌ yfinance request failed:\", e)\n",
    "else:\n",
    "    print(\"⚠️ Environment not ready — install missing packages and re-run this cell.\")"
   ]
  },
  {
   "cell_type": "markdown",
   "id": "ee8a20af",
   "metadata": {},
   "source": [
    "### Key concepts: Setup (verification)\n",
    "\n",
    "- Verify required packages up front to avoid mid-notebook failures ([Jupyter best practices](https://jupyter.org/practices)).\n",
    "- Prefer lightweight network checks for external APIs ([Real Python: package management](https://realpython.com/python-package-management/))."
   ]
  },
  {
   "cell_type": "markdown",
   "id": "3abd6ff5",
   "metadata": {},
   "source": [
    "## Install packages from repository requirements.txt (if needed)"
   ]
  },
  {
   "cell_type": "code",
   "execution_count": null,
   "id": "8d8bfa90",
   "metadata": {},
   "outputs": [],
   "source": [
    "# 📦 Install packages from repository requirements.txt (if needed)\n",
    "# - This is optional, intended for environments launched outside the project venv.\n",
    "# - Prefer using the venv in README_SETUP.md. Use this cell only if packages are missing.\n",
    "\n",
    "import sys\n",
    "import subprocess\n",
    "import pathlib\n",
    "import importlib\n",
    "\n",
    "# Path to requirements.txt (assumes it's one level up from the notebook)\n",
    "req = pathlib.Path('..') / 'requirements.txt'\n",
    "\n",
    "if req.exists():\n",
    "    try:\n",
    "        subprocess.check_call([\n",
    "            sys.executable, '-m', 'pip', 'install', '--quiet', '-r', str(req)\n",
    "        ])\n",
    "        print(f\"✅ Installed packages from {req}\")\n",
    "    except subprocess.CalledProcessError as e:\n",
    "        print(f\"❌ pip install failed with code {e.returncode}\")\n",
    "else:\n",
    "    print(f\"⚠️ requirements.txt not found at: {req}\")\n",
    "\n",
    "# 🔍 Quick availability check (non-fatal)\n",
    "print(\"\\n📦 Package availability check:\")\n",
    "for pkg in ('yfinance', 'pandas', 'numpy', 'requests', 'matplotlib', 'seaborn'):\n",
    "    spec = importlib.util.find_spec(pkg)\n",
    "    status = \"✅ available\" if spec else \"❌ NOT available\"\n",
    "    print(f\"{pkg}: {status}\")"
   ]
  },
  {
   "cell_type": "markdown",
   "id": "53b5c788",
   "metadata": {},
   "source": [
    "## FAANG Tickers and Data Download Overview"
   ]
  },
  {
   "cell_type": "markdown",
   "id": "15d1714c",
   "metadata": {},
   "source": [
    "## Canonical Ticker List"
   ]
  },
  {
   "cell_type": "markdown",
   "id": "e3c9d223",
   "metadata": {},
   "source": [
    "### Key concepts: Fetch (ticker list)\n",
    "\n",
    "- Centralize ticker list and deduplicate defensively ([Real Python: constants](https://realpython.com/python-constants/)).\n",
    "- Validate DataFrames before downstream steps ([pandas docs](https://pandas.pydata.org/docs/))."
   ]
  },
  {
   "cell_type": "code",
   "execution_count": null,
   "id": "4b5f5e12",
   "metadata": {},
   "outputs": [],
   "source": [
    "# ✅ Canonical list of FAANG tickers used throughout the notebook\n",
    "# - Using a list keeps order consistent.\n",
    "# - Deduplicate defensively to avoid accidental repeats.\n",
    "\n",
    "tickers = ['META', 'AAPL', 'AMZN', 'NFLX', 'GOOG']\n",
    "\n",
    "# Remove accidental duplicates while preserving order\n",
    "# dict.fromkeys(...) creates a dict with keys in insertion order; list(...) extracts keys back.\n",
    "tickers = list(dict.fromkeys(tickers))\n",
    "\n",
    "# Sanity check\n",
    "if len(tickers) != 5:\n",
    "    print('⚠️ Warning: unexpected tickers list (duplicates removed):', tickers)"
   ]
  },
  {
   "cell_type": "markdown",
   "id": "c2b61f2c",
   "metadata": {},
   "source": [
    "### Key concepts: Fetch (ticker list)\n",
    "\n",
    "- Deduplicate ticker lists with `dict.fromkeys()` ([Real Python: idioms](https://realpython.com/lessons/pythonic-idioms/)).\n",
    "- Centralize constants to avoid drift ([Real Python: constants](https://realpython.com/python-constants/))."
   ]
  },
  {
   "cell_type": "markdown",
   "id": "6c0bd549",
   "metadata": {},
   "source": [
    "# Fetch Function"
   ]
  },
  {
   "cell_type": "markdown",
   "id": "2fe2f70f",
   "metadata": {},
   "source": [
    "## Download and label data\n",
    "\n",
    "This section fetches hourly history for each ticker, labels each DataFrame, and saves CSVs to `data/`. Code is split into a small reusable function and a runner cell."
   ]
  },
  {
   "cell_type": "markdown",
   "id": "f6d0d53d",
   "metadata": {},
   "source": [
    "### Key concepts: Fetch (function)\n",
    "\n",
    "- Encapsulate data fetching in a reusable function with clear return values ([pandas docs](https://pandas.pydata.org/docs/)).\n",
    "- Use `df.copy()` to avoid SettingWithCopyWarning ([pandas DataFrame.copy](https://pandas.pydata.org/docs/reference/api/pandas.DataFrame.copy.html)).\n",
    "- Return `None` on failure for defensive programming ([Python for Data Analysis](https://www.oreilly.com/library/view/python-for-data/9781491957653/))."
   ]
  },
  {
   "cell_type": "code",
   "execution_count": null,
   "id": "f8bb6f89",
   "metadata": {},
   "outputs": [],
   "source": [
    "# 📥 Function to fetch hourly stock data for a single ticker\n",
    "# - Encapsulates the yfinance call and minimal cleanup.\n",
    "# - Returns a DataFrame with an added 'Ticker' column or None on failure.\n",
    "\n",
    "from typing import Optional\n",
    "\n",
    "def fetch_hourly_history(ticker: str, period: str = '5d', interval: str = '1h') -> Optional[pd.DataFrame]:\n",
    "    \"\"\"\n",
    "    Fetch hourly historical stock data for a single ticker using yfinance.\n",
    "\n",
    "    Parameters\n",
    "    ----------\n",
    "    ticker : str\n",
    "        Stock symbol (e.g., 'AAPL').\n",
    "    period : str\n",
    "        Range of time to download (e.g., '5d' for 5 days).\n",
    "    interval : str\n",
    "        Data granularity (e.g., '1h' for hourly).\n",
    "\n",
    "    Returns\n",
    "    -------\n",
    "    Optional[pd.DataFrame]\n",
    "        Labeled DataFrame with index named 'Date', or None if fetch fails.\n",
    "    \"\"\"\n",
    "    try:\n",
    "        t = yf.Ticker(ticker)  # Construct a Ticker object for the symbol\n",
    "        df = t.history(period=period, interval=interval)  # Retrieve historical data\n",
    "        if df is None or df.empty:\n",
    "            return None  # Nothing to process\n",
    "        df = df.copy()  # Avoid SettingWithCopy issues\n",
    "        df['Ticker'] = ticker  # Label rows with the symbol\n",
    "        df.index.name = 'Date'  # Name the index for CSV readability\n",
    "        return df\n",
    "    except Exception as e:\n",
    "        print(f\"❌ Error fetching {ticker}: {e}\")\n",
    "        return None\n",
    "\n",
    "# 🔍 Smoke test (non-blocking)\n",
    "_test = fetch_hourly_history('AAPL')\n",
    "if _test is not None:\n",
    "    print('✅ Fetched AAPL rows:', _test.shape[0])"
   ]
  },
  {
   "cell_type": "markdown",
   "id": "b244ec59",
   "metadata": {},
   "source": [
    "### Key concepts: Save\n",
    "\n",
    "- Use UTC timestamps in filenames for sorting and reproducibility ([Jupyter best practices](https://jupyter.org/practices)).\n",
    "- Wrap file I/O in try/except for robust workflows ([Real Python: file I/O](https://realpython.com/python-file-io/))."
   ]
  },
  {
   "cell_type": "markdown",
   "id": "dcac8a92",
   "metadata": {},
   "source": [
    "## Runner – Save CSVs"
   ]
  },
  {
   "cell_type": "code",
   "execution_count": null,
   "id": "88d145a8",
   "metadata": {},
   "outputs": [],
   "source": [
    "# Runner: Fetch data for each ticker and save to a timestamped CSV file\n",
    "# - Ensures the output folder exists\n",
    "# - Skips duplicates and gracefully handles missing data\n",
    "# - Uses sortable UTC timestamps (YYYYMMDDTHHMMSSZ)\n",
    "\n",
    "# Ensure ticker list has no duplicates (defensive)\n",
    "tickers = list(dict.fromkeys(tickers))\n",
    "\n",
    "# Create output folder (inside notebooks/ by design for this repo)\n",
    "os.makedirs('../data', exist_ok=True)\n",
    "\n",
    "# Track saved files\n",
    "results: dict[str, str] = {}\n",
    "seen: set[str] = set()\n",
    "\n",
    "for ticker in tickers:\n",
    "    # Skip duplicate symbols if any\n",
    "    if ticker in seen:\n",
    "        print(f'⏭️ Skipping duplicate ticker {ticker}')\n",
    "        continue\n",
    "    seen.add(ticker)\n",
    "\n",
    "    # Fetch hourly data\n",
    "    df = fetch_hourly_history(ticker)\n",
    "    if df is None or df.empty:\n",
    "        print(f'⚠️ No data for {ticker}')\n",
    "        continue\n",
    "\n",
    "    # If a file for this ticker already exists in this session, skip saving\n",
    "    existing = [p for p in os.listdir('../data') if p.startswith(f\"{ticker}_\") and p.endswith('.csv')]\n",
    "    if existing:\n",
    "        print(f'📁 File already exists for {ticker}, skipping save: {existing[0]}')\n",
    "        results[ticker] = os.path.join('data', existing[0])\n",
    "        continue\n",
    "\n",
    "    # Timestamped filename (UTC)\n",
    "    ts = datetime.now(timezone.utc).strftime('%Y%m%dT%H%M%SZ')\n",
    "    filename = os.path.join('data', f'{ticker}_{ts}.csv')\n",
    "\n",
    "    try:\n",
    "        df.to_csv(filename, index=True)\n",
    "        results[ticker] = filename\n",
    "        print(f'✅ Saved {ticker} -> {filename}')\n",
    "    except Exception as exc:\n",
    "        print(f'❌ Failed to save {ticker}: {exc}')\n",
    "\n",
    "# Show mapping of ticker -> file path for reference\n",
    "results"
   ]
  },
  {
   "cell_type": "markdown",
   "id": "ac76a5dd",
   "metadata": {},
   "source": [
    "### Key concepts: Save (runner)\n",
    "\n",
    "- Check for existing files before saving to avoid duplication ([Real Python: file I/O](https://realpython.com/python-file-io/)).\n",
    "- Use try/except for robust file operations ([Python Cookbook](https://www.oreilly.com/library/view/python-cookbook-3rd/9781449340377/ch17s12.html))."
   ]
  },
  {
   "cell_type": "markdown",
   "id": "bbcf5293",
   "metadata": {},
   "source": [
    "## 🔍 Fetch and Preview Hourly Data for Each Ticker\n",
    "\n",
    "This section builds a dictionary of hourly stock data for each FAANG ticker using the `fetch_hourly_history()` function.\n",
    "\n",
    "- Each ticker is fetched individually.\n",
    "- Valid DataFrames are stored in a dictionary keyed by ticker symbol.\n",
    "- Optionally, a preview of each DataFrame is displayed.\n",
    "\n",
    "> 📦 This modular approach supports downstream analysis and avoids failures due to missing data.\n"
   ]
  },
  {
   "cell_type": "code",
   "execution_count": null,
   "id": "8e82ee14",
   "metadata": {},
   "outputs": [],
   "source": [
    "# 📦 Build a dictionary to store hourly data for each ticker\n",
    "data = {}\n",
    "\n",
    "for ticker in tickers:\n",
    "    # Fetch hourly historical data using the custom function\n",
    "    df = fetch_hourly_history(ticker)\n",
    "\n",
    "    # Skip if no data is returned or DataFrame is empty\n",
    "    if df is None or df.empty:\n",
    "        print(f\"⚠️ No data for {ticker}\")\n",
    "        continue\n",
    "\n",
    "    # Store valid DataFrame in the dictionary\n",
    "    data[ticker] = df\n",
    "\n",
    "# 👀 Preview: Display shape and head of each DataFrame\n",
    "for sym, df in data.items():\n",
    "    print(f\"{sym}: {df.shape}\")\n",
    "    \n",
    "    if SHOW_PREVIEW:\n",
    "        display(df.head())"
   ]
  },
  {
   "cell_type": "markdown",
   "id": "72b6a63f",
   "metadata": {},
   "source": [
    "### Key concepts: Plot\n",
    "\n",
    "- Plot all tickers on one chart for comparison ([matplotlib docs](https://matplotlib.org/stable/users/index.html)).\n",
    "- Label axes, add legend, and use a date-range title for clarity.\n",
    "- Save plots with timestamped filenames for reproducibility."
   ]
  },
  {
   "cell_type": "markdown",
   "id": "c76b5cc9",
   "metadata": {},
   "source": [
    "## Diagnostic – Ticker Validation"
   ]
  },
  {
   "cell_type": "code",
   "execution_count": null,
   "id": "482a4543",
   "metadata": {},
   "outputs": [],
   "source": [
    "# 🧪 Diagnostic: Show effective tickers and detect duplicates\n",
    "# (Counter was imported at the top of the notebook)\n",
    "\n",
    "# Display the current list of tickers\n",
    "print(\"📋 Effective tickers:\", tickers)\n",
    "\n",
    "# Count occurrences of each ticker\n",
    "counts = Counter(tickers)\n",
    "\n",
    "# Identify any tickers that appear more than once\n",
    "dups = [t for t, c in counts.items() if c > 1]\n",
    "\n",
    "# Report findings\n",
    "if dups:\n",
    "    print(f\"⚠️ Duplicate tickers found: {dups}\")\n",
    "else:\n",
    "    print(\"✅ No duplicate tickers detected.\")\n",
    "\n"
   ]
  },
  {
   "cell_type": "markdown",
   "id": "e5075ca4",
   "metadata": {},
   "source": [
    "### Key concepts: Diagnostics\n",
    "\n",
    "- Use `collections.Counter` for quick frequency checks ([Python Cookbook](https://www.oreilly.com/library/view/python-cookbook/0596001673/ch01s02.html)).\n",
    "- Provide clear feedback to help users debug inputs ([Real Python: notebooks](https://realpython.com/python-notebooks/))."
   ]
  },
  {
   "cell_type": "markdown",
   "id": "49557a7f",
   "metadata": {},
   "source": [
    "# END"
   ]
  }
 ],
 "metadata": {
  "kernelspec": {
   "display_name": "base",
   "language": "python",
   "name": "python3"
  },
  "language_info": {
   "codemirror_mode": {
    "name": "ipython",
    "version": 3
   },
   "file_extension": ".py",
   "mimetype": "text/x-python",
   "name": "python",
   "nbconvert_exporter": "python",
   "pygments_lexer": "ipython3",
   "version": "3.12.2"
  }
 },
 "nbformat": 4,
 "nbformat_minor": 5
}
