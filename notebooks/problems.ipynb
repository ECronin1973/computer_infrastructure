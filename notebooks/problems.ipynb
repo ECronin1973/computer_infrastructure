{
 "cells": [
  {
   "cell_type": "markdown",
   "id": "418735fc",
   "metadata": {},
   "source": [
    "# yfinance\n",
    "\n",
    "**yfinance** is a library for accessing financial data from Yahoo Finance.\n",
    "\n",
    "https://github.com/ranaroussi/yfinance\n",
    "\n",
    "**yfinance documentation**: https://ranaroussi.github.io/yfinance/index.html\n"
   ]
  },
  {
   "cell_type": "markdown",
   "id": "bb370ff7",
   "metadata": {},
   "source": [
    "# Import Required Libraries"
   ]
  },
  {
   "cell_type": "code",
   "execution_count": null,
   "id": "3abb661a",
   "metadata": {},
   "outputs": [],
   "source": [
    "# Yahoo Finance API\n",
    "import yfinance as yf\n"
   ]
  },
  {
   "cell_type": "markdown",
   "id": "291a0ac5",
   "metadata": {},
   "source": [
    "'yfinance': Used to fetch stock data from Yahoo Finance [Source](https://pypi.org/project/yfinance/)\n",
    "\n",
    "```python"
   ]
  }
 ],
 "metadata": {
  "kernelspec": {
   "display_name": "Python 3",
   "language": "python",
   "name": "python3"
  },
  "language_info": {
   "codemirror_mode": {
    "name": "ipython",
    "version": 3
   },
   "file_extension": ".py",
   "mimetype": "text/x-python",
   "name": "python",
   "nbconvert_exporter": "python",
   "pygments_lexer": "ipython3",
   "version": "3.12.1"
  }
 },
 "nbformat": 4,
 "nbformat_minor": 5
}
